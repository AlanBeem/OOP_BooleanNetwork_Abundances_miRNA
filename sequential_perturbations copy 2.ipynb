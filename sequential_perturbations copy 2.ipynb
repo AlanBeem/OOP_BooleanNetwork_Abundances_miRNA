{
 "cells": [
  {
   "cell_type": "markdown",
   "metadata": {},
   "source": [
    "## Sequential perturbations\n",
    "\n",
    "02/16/2025\n",
    "\n",
    "Alan M H Beem"
   ]
  },
  {
   "cell_type": "code",
   "execution_count": 1,
   "metadata": {},
   "outputs": [],
   "source": [
    "N = 40\n",
    "# K = 2\n",
    "from package.abn_mir_helper_functions import *\n",
    "from package.abn_mir_plotting_functions import select_network\n",
    "from package.bn_graph_methods import *\n",
    "from package.plotting import get_colors, binary_states\n",
    "from random import SystemRandom as rand\n",
    "from seq_pert_as_py import seq_pert_report"
   ]
  },
  {
   "cell_type": "markdown",
   "metadata": {},
   "source": [
    "#### Problem specification:\n",
    "\n",
    "Find a sequence of unit perturbations (p1, p2) such that for all cycles (except goal cycle) there exists an interval L such that a run-in from the perturbed state (i.e. p1 has been applied, L steps have occurred, and p2 has been applied) would terminate in cycle detection of the goal cycle.\n",
    "\n",
    "---\n",
    "\n",
    "Secondarily, let the Boolean network be a deterministic finite automaton that detects the goal cycle states\n",
    "\n",
    "---\n",
    "Further,\n",
    "\n",
    "Let there be a 5% chance of unit perturbation;\n",
    "\n",
    "Alternatively,\n",
    "\n",
    "Let there be a % chance of unit perturbation that is also a function of total change in Boolean states per step;"
   ]
  },
  {
   "cell_type": "markdown",
   "metadata": {},
   "source": [
    "#### Solution method:\n",
    "\n",
    "#### Adjacency matrix from transitions matrix\n",
    "\n",
    "After forming an adjacency matrix (with a 1 for each non-zero entry of the transitions matrix, and a 0 otherwise), by raising the matrix to successively higher powers, starting from 1, we could determine whether the goal states (cycle) are reachable from all other cycles, in some number of perturbations (the values of the non-zero entries after multiplication).\n",
    "\n",
    "But for this:\n",
    "\n",
    "Algorithm:\n",
    "\n",
    "best sequences <- list\n",
    "\n",
    "For each perturbable node, form a matrix _A<sub>p<sub>k</sub></sub>_, with elements _a<sub>i,j</sub>_, 1 if perturbation of node _k_ causes a network in state _i_ to transitions to state _j_, otherwise 0.\n",
    "\n",
    "For all ordered pairs of matrices A<sub>p<sub>k</sub></sub>:\n",
    "\n",
    "Does A<sub>p<sub>k<sub>1</sub></sub></sub> $*$ A<sub>p<sub>k<sub>2</sub></sub></sub> have all non-zero entries in the column of goal cycle index, for all rows except the row of goal cycle index?  | In retrospect, it would be good to include that row.\n",
    "\n",
    "If so, there does exist such a sequence of perturbations, separated by an interval L: 0 ≤ L ≤ longest cycle length - 1, such that applying p1, waiting L steps, and applying p2 will result in a goal state.\n",
    "\n",
    "Otherwise, which sequence has the most in the column for the goal cycle? or, the greatest sum in the column for the goal cycle?"
   ]
  },
  {
   "cell_type": "markdown",
   "metadata": {},
   "source": [
    "### Set up a network for which to search for sequential perturbations effecting goal states"
   ]
  },
  {
   "cell_type": "code",
   "execution_count": null,
   "metadata": {},
   "outputs": [],
   "source": [
    "# setup\n",
    "net = select_network(\n",
    "    num_nodes=N,\n",
    "    minimum_max_cycle_length=15,\n",
    "    maximum_max_cycle_length=35,\n",
    "    minimum_number_of_cycles=10,\n",
    "    maximum_number_of_cycles=30,\n",
    "    maximum_number_of_networks=1024,\n",
    "    iterations_limit=400,\n",
    ")[\n",
    "    0\n",
    "]  # select net also returns all generated nets, used in bool_main for appendix figures\n",
    "net.add_cycles(1000)\n",
    "print(net)\n",
    "net.compute_unit_perturbations_matrix(sort_selection=1, compute_over_t_u=False)\n",
    "setup_colors = get_colors(\n",
    "    len(net.bn_collapsed_cycles) + 10, True\n",
    ")  # [[1, 1, 1, 1]]  # [[0.3, 0.3, 0.3, 0.5]]\n",
    "avg_color = [\n",
    "    sum(setup_colors[i][0] for i in range(len(setup_colors))) / len(setup_colors),\n",
    "    sum(setup_colors[i][1] for i in range(len(setup_colors))) / len(setup_colors),\n",
    "    sum(setup_colors[i][2] for i in range(len(setup_colors))) / len(setup_colors),\n",
    "    sum(setup_colors[i][3] for i in range(len(setup_colors))) / len(setup_colors) / 10,\n",
    "]\n",
    "setup_colors.append(avg_color)"
   ]
  },
  {
   "cell_type": "markdown",
   "metadata": {},
   "source": [
    "#### Cycle states as binary numbers, goal cycle states as binary values\n",
    "Each state is taken to be a binary integer (ex: for N=2, a state 01<sub>2</sub> -> 1, a state 11<sub>2</sub> -> 3)"
   ]
  },
  {
   "cell_type": "code",
   "execution_count": null,
   "metadata": {},
   "outputs": [],
   "source": [
    "# goal states as a given cycle\n",
    "goal_cycle_index = rand().randrange(0, len(net.bn_collapsed_cycles.cycle_records))\n",
    "fig = binary_states(net, setup_colors, goal_cycle_index, plt)\n",
    "plt.show()"
   ]
  },
  {
   "cell_type": "markdown",
   "metadata": {},
   "source": [
    "#### Applying the algorithm from solution method:"
   ]
  },
  {
   "cell_type": "code",
   "execution_count": null,
   "metadata": {},
   "outputs": [],
   "source": [
    "matrices = [\n",
    "    np.zeros_like(net.cycles_unit_perturbations_transition_matrix) for _ in net.nodes\n",
    "]\n",
    "all_matrix = np.zeros_like(net.cycles_unit_perturbations_transition_matrix)\n",
    "for record in net.cycles_unit_perturbations_records:\n",
    "    if record.end_index is not None:\n",
    "        matrices[record.perturbed_node_index][record.start_index][\n",
    "            record.end_index\n",
    "        ] = 1  # 1 represents adjacency\n",
    "        all_matrix[record.start_index][\n",
    "            record.end_index\n",
    "        ] = 1  # 1 represents adjacency  # this one is for a secondary question\n",
    "max_good_rows = 0\n",
    "found_sequences_2 = []\n",
    "# working_sequences_2 = []  # initial output -> thoughts: requiring that the perturbation not make the goal state change is important, but may be overly restrictive\n",
    "best_sequence = None\n",
    "for i in range(len(matrices)):\n",
    "    for j in range(len(matrices)):\n",
    "        matrix_product = matrices[i] @ matrices[j]\n",
    "        good_rows = 0\n",
    "        for row in matrix_product:\n",
    "            if row[goal_cycle_index] > 0:\n",
    "                good_rows += 1\n",
    "        if good_rows == len(net.bn_collapsed_cycles) - 1:\n",
    "            found_sequences_2.append((i, j))\n",
    "        if good_rows > max_good_rows:\n",
    "            max_good_rows = good_rows\n",
    "            best_sequence = (i, j)\n",
    "print(\n",
    "    f\"{len(found_sequences_2)} sequences of perturbations unanimously effect goal state\"\n",
    ")\n",
    "print(\n",
    "    f\"results:\\nsequence: {best_sequence}\\nnumber of cycles for which sequence -> goal: {max_good_rows}\"\n",
    ")"
   ]
  },
  {
   "cell_type": "markdown",
   "metadata": {},
   "source": [
    "#### Initially, no, at least with the network I was looking at, there is not such a sequence of perturbations.\n",
    "\n",
    "However, there are often some that are close, and with noise, they do pretty good."
   ]
  },
  {
   "cell_type": "markdown",
   "metadata": {},
   "source": [
    "#### What about with another perturbation?"
   ]
  },
  {
   "cell_type": "code",
   "execution_count": null,
   "metadata": {},
   "outputs": [],
   "source": [
    "matrices = [\n",
    "    np.zeros_like(net.cycles_unit_perturbations_transition_matrix) for _ in net.nodes\n",
    "]\n",
    "all_matrix = np.zeros_like(net.cycles_unit_perturbations_transition_matrix)\n",
    "for record in net.cycles_unit_perturbations_records:\n",
    "    if record.end_index is not None:\n",
    "        matrices[record.perturbed_node_index][record.start_index][\n",
    "            record.end_index\n",
    "        ] = 1  # 1 represents adjacency\n",
    "        all_matrix[record.start_index][\n",
    "            record.end_index\n",
    "        ] = 1  # 1 represents adjacency  # this one is for a secondary question\n",
    "max_good_rows = 0\n",
    "found_sequences_3 = []\n",
    "best_sequence_3 = None\n",
    "# working_sequences_3 = []\n",
    "for i in range(len(matrices)):\n",
    "    for j in range(len(matrices)):\n",
    "        m_i_j = matrices[i] @ matrices[j]\n",
    "        for k in range(len(matrices)):\n",
    "            matrix_product = m_i_j @ matrices[k]\n",
    "            good_rows = 0\n",
    "            for row in matrix_product:\n",
    "                if row[goal_cycle_index] > 0:\n",
    "                    good_rows += 1\n",
    "            if good_rows == len(net.bn_collapsed_cycles) - 1:\n",
    "                found_sequences_3.append((i, j, k))\n",
    "            if good_rows > max_good_rows:\n",
    "                max_good_rows = good_rows\n",
    "                found_sequence = (i, j, k)\n",
    "print(\n",
    "    f\"{len(found_sequences_3)} sequences of perturbations unanimously effect goal state\"\n",
    ")\n",
    "print(\n",
    "    f\"results:\\nsequence: {found_sequence}\\nnumber of cycles for which sequence -> goal: {max_good_rows}\"\n",
    ")"
   ]
  },
  {
   "cell_type": "markdown",
   "metadata": {},
   "source": [
    "#### Progression of distribution of states from uniform initial conditions (1 for each cycle state), BN ≠ DFA"
   ]
  },
  {
   "cell_type": "markdown",
   "metadata": {},
   "source": [
    "##### With two unit perturbations"
   ]
  },
  {
   "cell_type": "code",
   "execution_count": null,
   "metadata": {},
   "outputs": [],
   "source": [
    "leg = plt.figure()\n",
    "leg.set_size_inches(10, 2)\n",
    "leg_ax = plt.axes((0, 0, 1, 1))\n",
    "plt.text(0, 0, \"test\")\n",
    "plt.Rectangle\n",
    "\n",
    "leg.add_axes(leg_ax)\n",
    "plt.show()\n",
    "\n",
    "fig = seq_pert_report(\n",
    "    p1=best_sequence[0],\n",
    "    p2=best_sequence[1],\n",
    "    goal_cycle_index=goal_cycle_index,\n",
    "    net=net,\n",
    "    cycle_colors=setup_colors,\n",
    "    total_steps=500,\n",
    "    progress_div=1,\n",
    "    goal_bool=False,\n",
    ")\n",
    "fig.set_size_inches(10, 30)\n",
    "plt.show()\n",
    "# color by terminal state label"
   ]
  },
  {
   "cell_type": "markdown",
   "metadata": {},
   "source": [
    "##### With three unit perturbations"
   ]
  },
  {
   "cell_type": "code",
   "execution_count": null,
   "metadata": {},
   "outputs": [],
   "source": [
    "fig = seq_pert_report(\n",
    "    p1=found_sequence[0],\n",
    "    p2=found_sequence[1],\n",
    "    goal_cycle_index=goal_cycle_index,\n",
    "    net=net,\n",
    "    cycle_colors=setup_colors,\n",
    "    total_steps=500,\n",
    "    progress_div=1,\n",
    "    goal_bool=True,\n",
    "    p3=found_sequence[2],\n",
    ")\n",
    "fig.set_size_inches(10, 30)\n",
    "plt.show()\n",
    "# color by terminal state label"
   ]
  },
  {
   "cell_type": "markdown",
   "metadata": {},
   "source": [
    "#### With noise:"
   ]
  },
  {
   "cell_type": "markdown",
   "metadata": {},
   "source": [
    "##### With two unit perturbations:"
   ]
  },
  {
   "cell_type": "code",
   "execution_count": null,
   "metadata": {},
   "outputs": [],
   "source": [
    "fig = seq_pert_report(\n",
    "    p1=best_sequence[0],\n",
    "    p2=best_sequence[1],\n",
    "    goal_cycle_index=goal_cycle_index,\n",
    "    net=net,\n",
    "    cycle_colors=setup_colors,\n",
    "    total_steps=500,\n",
    "    progress_div=1,\n",
    "    goal_bool=True,\n",
    "    with_noise=0.05,\n",
    ")\n",
    "fig.set_size_inches(10, 30)\n",
    "plt.show()\n",
    "# color by terminal state label"
   ]
  },
  {
   "cell_type": "markdown",
   "metadata": {},
   "source": [
    "##### With three unit perturbations"
   ]
  },
  {
   "cell_type": "code",
   "execution_count": null,
   "metadata": {},
   "outputs": [],
   "source": [
    "fig = seq_pert_report(\n",
    "    p1=found_sequence[0],\n",
    "    p2=found_sequence[1],\n",
    "    goal_cycle_index=goal_cycle_index,\n",
    "    net=net,\n",
    "    cycle_colors=setup_colors,\n",
    "    total_steps=500,\n",
    "    progress_div=1,\n",
    "    goal_bool=True,\n",
    "    p3=found_sequence[2],\n",
    "    with_noise=0.05,\n",
    ")\n",
    "fig.set_size_inches(10, 30)\n",
    "plt.show()\n",
    "# color by terminal state label"
   ]
  },
  {
   "cell_type": "markdown",
   "metadata": {},
   "source": [
    "#### With noise \"BV\" noise (Boolean Velocity):\n",
    "\n",
    "A more limited set of transitions"
   ]
  },
  {
   "cell_type": "markdown",
   "metadata": {},
   "source": [
    "#### Progression of distribution of states from uniform initial conditions (1 for each cycle state)"
   ]
  },
  {
   "cell_type": "markdown",
   "metadata": {},
   "source": [
    "##### With two unit perturbations"
   ]
  },
  {
   "cell_type": "code",
   "execution_count": null,
   "metadata": {},
   "outputs": [],
   "source": [
    "fig = seq_pert_report(\n",
    "    p1=best_sequence[0],\n",
    "    p2=best_sequence[1],\n",
    "    goal_cycle_index=goal_cycle_index,\n",
    "    net=net,\n",
    "    cycle_colors=setup_colors,\n",
    "    total_steps=1000,\n",
    "    progress_div=1,\n",
    "    goal_bool=True,\n",
    ")\n",
    "fig.set_size_inches(10, 30)\n",
    "plt.show()\n",
    "# color by terminal state label"
   ]
  },
  {
   "cell_type": "markdown",
   "metadata": {},
   "source": [
    "##### With three unit perturbations"
   ]
  },
  {
   "cell_type": "code",
   "execution_count": null,
   "metadata": {},
   "outputs": [],
   "source": [
    "fig = seq_pert_report(\n",
    "    p1=found_sequence[0],\n",
    "    p2=found_sequence[1],\n",
    "    goal_cycle_index=goal_cycle_index,\n",
    "    net=net,\n",
    "    cycle_colors=setup_colors,\n",
    "    total_steps=500,\n",
    "    progress_div=1,\n",
    "    goal_bool=True,\n",
    "    p3=found_sequence[2],\n",
    ")\n",
    "fig.set_size_inches(10, 30)\n",
    "plt.show()\n",
    "# color by terminal state label"
   ]
  },
  {
   "cell_type": "markdown",
   "metadata": {},
   "source": [
    "#### With noise:"
   ]
  },
  {
   "cell_type": "markdown",
   "metadata": {},
   "source": [
    "##### With two unit perturbations:"
   ]
  },
  {
   "cell_type": "code",
   "execution_count": null,
   "metadata": {},
   "outputs": [],
   "source": [
    "fig = seq_pert_report(\n",
    "    p1=best_sequence[0],\n",
    "    p2=best_sequence[1],\n",
    "    goal_cycle_index=goal_cycle_index,\n",
    "    net=net,\n",
    "    cycle_colors=setup_colors,\n",
    "    total_steps=500,\n",
    "    progress_div=1,\n",
    "    goal_bool=True,\n",
    "    with_noise=0.05,\n",
    ")\n",
    "fig.set_size_inches(10, 30)\n",
    "plt.show()\n",
    "# color by terminal state label"
   ]
  },
  {
   "cell_type": "markdown",
   "metadata": {},
   "source": [
    "##### With three unit perturbations"
   ]
  },
  {
   "cell_type": "code",
   "execution_count": null,
   "metadata": {},
   "outputs": [],
   "source": [
    "fig = seq_pert_report(\n",
    "    p1=found_sequence[0],\n",
    "    p2=found_sequence[1],\n",
    "    goal_cycle_index=goal_cycle_index,\n",
    "    net=net,\n",
    "    cycle_colors=setup_colors,\n",
    "    total_steps=500,\n",
    "    progress_div=1,\n",
    "    goal_bool=True,\n",
    "    p3=found_sequence[2],\n",
    "    with_noise=0.05,\n",
    ")\n",
    "fig.set_size_inches(10, 30)\n",
    "plt.show()\n",
    "# color by terminal state label"
   ]
  },
  {
   "cell_type": "markdown",
   "metadata": {},
   "source": [
    "#### With noise \"BV\" noise (Boolean Velocity):\n",
    "\n",
    "A more limited set of transitions"
   ]
  },
  {
   "cell_type": "code",
   "execution_count": null,
   "metadata": {},
   "outputs": [],
   "source": [
    "fig = seq_pert_report(\n",
    "    p1=best_sequence[0],\n",
    "    p2=best_sequence[1],\n",
    "    goal_cycle_index=goal_cycle_index,\n",
    "    net=net,\n",
    "    cycle_colors=setup_colors,\n",
    "    total_steps=500,\n",
    "    progress_div=1,\n",
    "    goal_bool=True,\n",
    "    with_noise=\"bv\",\n",
    ")\n",
    "fig.set_size_inches(10, 30)\n",
    "plt.show()\n",
    "# color by terminal state label"
   ]
  },
  {
   "cell_type": "code",
   "execution_count": null,
   "metadata": {},
   "outputs": [],
   "source": [
    "fig = seq_pert_report(\n",
    "    p1=found_sequence[0],\n",
    "    p2=found_sequence[1],\n",
    "    goal_cycle_index=goal_cycle_index,\n",
    "    net=net,\n",
    "    cycle_colors=setup_colors,\n",
    "    total_steps=500,\n",
    "    progress_div=1,\n",
    "    goal_bool=True,\n",
    "    p3=found_sequence[2],\n",
    "    with_noise=\"bv\",\n",
    ")\n",
    "fig.set_size_inches(10, 30)\n",
    "plt.show()\n",
    "# color by terminal state label"
   ]
  },
  {
   "cell_type": "markdown",
   "metadata": {},
   "source": [
    "### Appendix\n",
    "\n",
    "With larger values of N, less likely to see such a unanimously effcting sequence of perturbations, but I'm not really sure that's the analogy anyway."
   ]
  },
  {
   "cell_type": "markdown",
   "metadata": {},
   "source": [
    "### Conceptual background, introduction:\n",
    "\n",
    "#### Perturbed Boolean networks:\n",
    "\n",
    "Let Boolean network functions, input assignments be immutable; Each sequence of unit perturbations is fired probabilistically (a la Petri-net);\n",
    "\n",
    "Consider a Gene Regulatory Network whose edges are derived from correlations of differentially expressed genes, from measurements of abundances of protein, RNA over a panel of perturbations or natural variation.\n",
    "\n",
    "How different would such GRNs really be for unperturbed, and perturbed networks? In terms of design-space of perturbations / interventions, the result of weighing edges is likely not sufficiently unique to specify a cassette, further, it would not (TBD) pose a subset of subproblems (???)\n",
    "\n",
    "As part of backtracking, a condition could be applied to the as-would-be-inferred GRN, such that ??? maybe we can expect that healthy cellular systems, with such an altered GRN, woudl still behave healthily.\n",
    "\n",
    "#### Problem specification:\n",
    "\n",
    "Find a sequence of unit perturbations (p1, p2) such that for all cycles (except goal cycle) there exists an interval L such that a run-in from the perturbed state (i.e. p1 has been applied, L steps have occurred, and p2 has been applied) would terminate in cycle detection of the goal cycle.\n",
    "\n",
    "#### Assumptions:\n",
    "\n",
    "Perturbation does not fire in goal states. (This can be relaxed, but I'm not sure it would work, practically, this could be embodied by a constitutive or conditional payload in the perturbation that fires only in the goal state, causing cell death)\n",
    "\n",
    "#### Implication:\n",
    "\n",
    "If such a sequential perturbation exists, then, where it is applied probabilistically to a distribution of network states, eventually, all trajectories will be in goal states.\n",
    "\n",
    "---\n",
    "Applications of a similar search, for scaled and meaningfully assigned Boolean networks, includes designed changes to cancer ecosystems."
   ]
  },
  {
   "cell_type": "code",
   "execution_count": null,
   "metadata": {},
   "outputs": [],
   "source": [
    "# # there is a topo sort to be applied here ...\n",
    "# # for row in (all_matrix @ all_matrix)[:-1]:\n",
    "# #     print('\\t'.join(str(s) for s in row[:-1]))\n",
    "# shuffle(matrices)\n",
    "# prod_sum = np.eye(N=len(matrices[0]), M=len(matrices[0]))\n",
    "# for m in matrices:\n",
    "#     prod_sum = prod_sum @ m\n",
    "# # for i in range(len(prod_sum)):\n",
    "# #     for j in range(len(prod_sum)):\n",
    "# #         if prod_sum[i][j] > 0:\n",
    "# #             prod_sum[i][j] = 1\n",
    "# plt.imshow(prod_sum)  # ah- here is a way to cluster the cycles  # this one is potentially useful, at least as represented, can section into partitions# for output TODO pickle\n",
    "print(net)\n",
    "for n in net.nodes:\n",
    "    print(n.function)\n",
    "print(net.node_inputs_assignments)\n",
    "# BooleanNetwork: N=40. avg_k= 1.65. Run-ins: 1202. Observed cycles: 30. t_records: 1202. u_records: 0  # two clear sections of numbers\n",
    "# Cycle lengths: [2, 2, 3, 3, 3, 3, 4, 4, 24, 2, 12, 24, 12, 2, 2, 2, 6, 2, 2, 6, 6, 1, 6, 1, 8, 4, 4, 2, 2, 2]\n",
    "# <package.boolean_networks._BooleanFunction6 object at 0x127b6bda0>\n",
    "# <package.boolean_networks._BooleanFunction15 object at 0x127b6bf50>\n",
    "# <package.boolean_networks._BooleanFunction15 object at 0x127b6bf50>\n",
    "# <package.boolean_networks._BooleanFunction5 object at 0x127b6bd70>\n",
    "# <package.boolean_networks._BooleanFunction3 object at 0x127b6bd10>\n",
    "# <package.boolean_networks._BooleanFunction9 object at 0x127b6be30>\n",
    "# <package.boolean_networks._BooleanFunction2 object at 0x127b6bce0>\n",
    "# <package.boolean_networks._BooleanFunction12 object at 0x127b6bec0>\n",
    "# <package.boolean_networks._BooleanFunction13 object at 0x127b6bef0>\n",
    "# <package.boolean_networks._BooleanFunction5 object at 0x127b6bd70>\n",
    "# <package.boolean_networks._BooleanFunction6 object at 0x127b6bda0>\n",
    "# <package.boolean_networks._BooleanFunction8 object at 0x127b6be00>\n",
    "# <package.boolean_networks._BooleanFunction15 object at 0x127b6bf50>\n",
    "# <package.boolean_networks._BooleanFunction9 object at 0x127b6be30>\n",
    "# <package.boolean_networks._BooleanFunction5 object at 0x127b6bd70>\n",
    "# <package.boolean_networks._BooleanFunction13 object at 0x127b6bef0>\n",
    "# <package.boolean_networks._BooleanFunction11 object at 0x127b6be90>\n",
    "# <package.boolean_networks._BooleanFunction12 object at 0x127b6bec0>\n",
    "# <package.boolean_networks._BooleanFunction13 object at 0x127b6bef0>\n",
    "# <package.boolean_networks._BooleanFunction15 object at 0x127b6bf50>\n",
    "# <package.boolean_networks._BooleanFunction6 object at 0x127b6bda0>\n",
    "# <package.boolean_networks._BooleanFunction3 object at 0x127b6bd10>\n",
    "# <package.boolean_networks._BooleanFunction15 object at 0x127b6bf50>\n",
    "# ...\n",
    "# <package.boolean_networks._BooleanFunction10 object at 0x127b6be60>\n",
    "# <package.boolean_networks._BooleanFunction9 object at 0x127b6be30>\n",
    "# <package.boolean_networks._BooleanFunction2 object at 0x127b6bce0>\n",
    "# [[3, 0], [20, 34], [7, 16], [21, 9], [20, 33], [0, 4], [9, 17], [20, 32], [14, 19], [9, 26], [34, 7], [37, 5], [26, 24], [39, 4], [2, 16], [16, 30], [12, 39], [5, 34], [13, 13], [3, 27], [28, 14], [23, 23], [7, 37], [24, 24], [15, 22], [17, 31], [31, 8], [22, 39], [6, 10], [25, 9], [33, 23], [33, 3], [7, 10], [12, 37], [25, 11], [38, 14], [36, 36], [10, 12], [36, 31], [18, 5]]\n",
    "# Output is truncated. View as a scrollable element or open in a text editor. Adjust cell output settings..."
   ]
  }
 ],
 "metadata": {
  "kernelspec": {
   "display_name": "base",
   "language": "python",
   "name": "python3"
  },
  "language_info": {
   "codemirror_mode": {
    "name": "ipython",
    "version": 3
   },
   "file_extension": ".py",
   "mimetype": "text/x-python",
   "name": "python",
   "nbconvert_exporter": "python",
   "pygments_lexer": "ipython3",
   "version": "3.12.4"
  }
 },
 "nbformat": 4,
 "nbformat_minor": 2
}
